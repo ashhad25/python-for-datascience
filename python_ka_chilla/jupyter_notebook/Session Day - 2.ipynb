{
 "cells": [
  {
   "cell_type": "code",
   "execution_count": 1,
   "id": "182d0dc2",
   "metadata": {},
   "outputs": [],
   "source": [
    "# body mass index (BMI)\n",
    "# input Weight\n",
    "# Height\n",
    "# BMI(Ask your self your height)\n",
    "# input Weight\n",
    "# Calculate BMI\n",
    "# print BMI(My name is  , and my BMI is ----- )"
   ]
  },
  {
   "cell_type": "code",
   "execution_count": 3,
   "id": "2628536c",
   "metadata": {},
   "outputs": [
    {
     "name": "stdout",
     "output_type": "stream",
     "text": [
      "Input your name: ashhad\n",
      "Input your weight in kg: 68\n",
      "Input your height in meter: 1.74\n",
      "My name is ashhad and my BMI is 22.460034350640772\n"
     ]
    }
   ],
   "source": [
    "name  = input(\"Input your name: \")\n",
    "weight = float(input(\"Input your weight in kg: \"))\n",
    "height = float(input(\"Input your height in meter: \"))\n",
    "\n",
    "BMI = weight/height**2\n",
    "print(\"My name is {} and my BMI is {}\".format(name, BMI))"
   ]
  },
  {
   "cell_type": "code",
   "execution_count": null,
   "id": "9668ee64",
   "metadata": {},
   "outputs": [],
   "source": []
  }
 ],
 "metadata": {
  "kernelspec": {
   "display_name": "Python 3 (ipykernel)",
   "language": "python",
   "name": "python3"
  },
  "language_info": {
   "codemirror_mode": {
    "name": "ipython",
    "version": 3
   },
   "file_extension": ".py",
   "mimetype": "text/x-python",
   "name": "python",
   "nbconvert_exporter": "python",
   "pygments_lexer": "ipython3",
   "version": "3.9.13"
  }
 },
 "nbformat": 4,
 "nbformat_minor": 5
}
