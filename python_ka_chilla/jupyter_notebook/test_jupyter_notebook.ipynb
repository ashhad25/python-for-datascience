{
 "cells": [
  {
   "cell_type": "code",
   "execution_count": 1,
   "id": "b9519215",
   "metadata": {},
   "outputs": [
    {
     "name": "stdout",
     "output_type": "stream",
     "text": [
      "hello world\n"
     ]
    }
   ],
   "source": [
    "print(\"hello world\")"
   ]
  },
  {
   "cell_type": "code",
   "execution_count": 2,
   "id": "fddce0d5",
   "metadata": {},
   "outputs": [
    {
     "name": "stdout",
     "output_type": "stream",
     "text": [
      "5\n"
     ]
    }
   ],
   "source": [
    "print(2+3)"
   ]
  },
  {
   "cell_type": "markdown",
   "id": "07239d8f",
   "metadata": {},
   "source": [
    "# Python Programming\n",
    "## Libraries in python"
   ]
  },
  {
   "cell_type": "markdown",
   "id": "e7e151dd",
   "metadata": {},
   "source": [
    "#**below is the way you import different libraries:*"
   ]
  },
  {
   "cell_type": "code",
   "execution_count": null,
   "id": "94a62b49",
   "metadata": {},
   "outputs": [],
   "source": [
    "import math\n",
    "import statistics"
   ]
  }
 ],
 "metadata": {
  "kernelspec": {
   "display_name": "Python 3 (ipykernel)",
   "language": "python",
   "name": "python3"
  },
  "language_info": {
   "codemirror_mode": {
    "name": "ipython",
    "version": 3
   },
   "file_extension": ".py",
   "mimetype": "text/x-python",
   "name": "python",
   "nbconvert_exporter": "python",
   "pygments_lexer": "ipython3",
   "version": "3.9.13"
  }
 },
 "nbformat": 4,
 "nbformat_minor": 5
}
