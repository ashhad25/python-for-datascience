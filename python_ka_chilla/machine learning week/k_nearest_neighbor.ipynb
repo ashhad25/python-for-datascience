{
 "cells": [
  {
   "attachments": {},
   "cell_type": "markdown",
   "metadata": {},
   "source": [
    "# K Nearest Neighbor Algorithm"
   ]
  },
  {
   "attachments": {},
   "cell_type": "markdown",
   "metadata": {},
   "source": [
    "- (Nearest neighbor) means basically we consider a single point on the plot and we check it's surrounded neighbor points and the distance between them and we calculate the nearest neighbor point to our point\n",
    "- (K) basically is the ammount of neighbors we have to see e.g: if K is 5 so we see the 5 nearest neighbors to a particular point"
   ]
  },
  {
   "attachments": {},
   "cell_type": "markdown",
   "metadata": {},
   "source": [
    "- K Nearest Neighbor is based on two things:\n",
    "  - quantity of neighbor points and their classes\n",
    "  - if quantity is same then we see the nearest ones"
   ]
  },
  {
   "attachments": {},
   "cell_type": "markdown",
   "metadata": {},
   "source": [
    "- K should not be quite big also shouldn't be quite small this will cause us wrong predictions"
   ]
  },
  {
   "attachments": {},
   "cell_type": "markdown",
   "metadata": {},
   "source": [
    "- Usually we consider K value as 3, 5, 7\n",
    "- or basic domain knowledge"
   ]
  },
  {
   "attachments": {},
   "cell_type": "markdown",
   "metadata": {},
   "source": [
    "- K nearest can also work for numeric variables"
   ]
  }
 ],
 "metadata": {
  "kernelspec": {
   "display_name": "Python 3",
   "language": "python",
   "name": "python3"
  },
  "language_info": {
   "name": "python",
   "version": "3.11.1"
  },
  "orig_nbformat": 4,
  "vscode": {
   "interpreter": {
    "hash": "d94903e093d2a635606a0738baa102b4391fe4fecd9e7b37ec5f3e8decf9d05e"
   }
  }
 },
 "nbformat": 4,
 "nbformat_minor": 2
}
