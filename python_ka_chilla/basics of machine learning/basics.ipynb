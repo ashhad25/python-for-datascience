{
 "cells": [
  {
   "attachments": {},
   "cell_type": "markdown",
   "metadata": {},
   "source": [
    "# What Is Machine Learning"
   ]
  },
  {
   "attachments": {},
   "cell_type": "markdown",
   "metadata": {},
   "source": [
    "**Machine learning is a subset of AI, which enables the machine to automatically learn from data, improve performance from past experiences, and make predictions.** Machine learning contains a set of algorithms that work on a huge amount of data. Data is fed to these algorithms to train them, and on the basis of training, they build the model & perform a specific task."
   ]
  },
  {
   "attachments": {},
   "cell_type": "markdown",
   "metadata": {},
   "source": [
    "# Types Of Machine Learning"
   ]
  },
  {
   "attachments": {},
   "cell_type": "markdown",
   "metadata": {},
   "source": [
    "**Machine learning is divided into mainly four types, which are:**\n",
    "1. Supervised Machine Learning\n",
    "2. Unsupervised Machine Learning\n",
    "3. Semi-Supervised Machine Learning\n",
    "4. Reinforcement Learning"
   ]
  },
  {
   "attachments": {},
   "cell_type": "markdown",
   "metadata": {},
   "source": [
    "![https://static.javatpoint.com/tutorial/machine-learning/images/types-of-machine-learning2.png](https://static.javatpoint.com/tutorial/machine-learning/images/types-of-machine-learning2.png)"
   ]
  },
  {
   "attachments": {},
   "cell_type": "markdown",
   "metadata": {},
   "source": [
    "# Supervised Learning"
   ]
  },
  {
   "attachments": {},
   "cell_type": "markdown",
   "metadata": {},
   "source": [
    "The supervised machine learning algorithms can be broadly classified into two categories: \n",
    "- **Regression and classification.** "
   ]
  },
  {
   "attachments": {},
   "cell_type": "markdown",
   "metadata": {},
   "source": [
    "### Regression\n",
    "A regression problem is used to predict the output for real or continuous values. Moreover, this technique aims to map a predictive relationship between dependent and independent variables. \n",
    "\n",
    "### Classification\n",
    "A classification problem is used to identify specific categories of new observations based on one or more independent variables. Classification in machine learning can require two or more categories of a given data set. Therefore, it generates a probability score to assign the data into a specific category, such as spam or not spam, yes or no, disease or no disease, red or green, male or female, etc.\n",
    "- The most common classification algorithms are binary classification, multi-class classification, multi-label classification, and imbalanced classification"
   ]
  },
  {
   "attachments": {},
   "cell_type": "markdown",
   "metadata": {},
   "source": [
    "### Binary Classification\n",
    "Binary is a type of problem in classification in machine learning that has only two possible outcomes. For example, yes or no, true or false, spam or not spam, etc. \n",
    "- Some common binary classification algorithms are logistic regression, decision trees, simple bayes, and support vector machines."
   ]
  },
  {
   "attachments": {},
   "cell_type": "markdown",
   "metadata": {},
   "source": [
    "### Multi-Class Classification\n",
    "Multi-class is a type of classification problem with more than two outcomes and does not have the concept of normal and abnormal outcomes. Here each outcome is assigned to only one label. For example, classifying images, classifying species, and categorizing faces, among others. \n",
    "- Some common multi-class algorithms are choice trees, progressive boosting, nearest k neighbors, and rough forest. "
   ]
  },
  {
   "attachments": {},
   "cell_type": "markdown",
   "metadata": {},
   "source": [
    "### Multi-Label Classification\n",
    "Multi-label is a type of classification problem that may have more than one class label assigned to the data. Here the model will have multiple outcomes. For example, a book or a movie can be categorized into multiple genres, or an image can have multiple objects. \n",
    "- Some common multi-label algorithms are multi-label decision trees, multi-label gradient boosting, and multi-label random forests. "
   ]
  },
  {
   "attachments": {},
   "cell_type": "markdown",
   "metadata": {},
   "source": [
    "### Imbalanced Classification\n",
    "Most machine learning algorithms assume equal data distribution. When the data distribution is not equal, it leads to imbalance. An imbalanced classification problem is a classification problem where the distribution of the dataset is skewed or biased. This method employs specialized techniques to change the composition of data samples. \n",
    "- Some examples of imbalanced classification are spam filtering, disease screening, and fraud detection. "
   ]
  }
 ],
 "metadata": {
  "kernelspec": {
   "display_name": "Python 3",
   "language": "python",
   "name": "python3"
  },
  "language_info": {
   "name": "python",
   "version": "3.11.1 (tags/v3.11.1:a7a450f, Dec  6 2022, 19:58:39) [MSC v.1934 64 bit (AMD64)]"
  },
  "orig_nbformat": 4,
  "vscode": {
   "interpreter": {
    "hash": "d94903e093d2a635606a0738baa102b4391fe4fecd9e7b37ec5f3e8decf9d05e"
   }
  }
 },
 "nbformat": 4,
 "nbformat_minor": 2
}
