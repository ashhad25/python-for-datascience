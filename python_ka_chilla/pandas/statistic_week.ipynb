{
 "cells": [
  {
   "attachments": {},
   "cell_type": "markdown",
   "metadata": {},
   "source": [
    "### **Statistic Week ( Python ka Chilla 1.0 )**\n",
    "\n",
    "- Terms of statistics:\n",
    "  \n",
    "  - AVERAGE\n",
    "  - MAXIMUM\n",
    "  - MINIMUM\n",
    "  - PERCENTAGE\n",
    "  - LIKELIHOOD\n",
    "  - VARIENCE\n",
    "  - T-TEST\n",
    "  - ANOVA"
   ]
  },
  {
   "attachments": {},
   "cell_type": "markdown",
   "metadata": {},
   "source": [
    "- Types of Data:\n",
    "  \n",
    "  - CROSS SECTIONAL\n",
    "    - Data collected at one point\n",
    "    - e.g: how many people have watched a video today\n",
    "  - TIME SERIES\n",
    "    - Data collected at different points\n",
    "    - e.g: how many people have watched a video since 2021 to 2023\n",
    "  - UNIVARIATE\n",
    "    - Data contains a single variable to measure entity\n",
    "    - e.g: if you are eating food how much your weight is increasing\n",
    "  - MULTI-VARIATE\n",
    "    - Data contains > 2 variables to measure something\n",
    "    - e.g: if you are eating food and also drinking water how much your weight is increasing"
   ]
  },
  {
   "attachments": {},
   "cell_type": "markdown",
   "metadata": {},
   "source": [
    "- Types of Variable:\n",
    "  - Categorical (Nominal) Variable :\n",
    "    - Binomial\n",
    "      - True/False\n",
    "    - Multinomial\n",
    "      - Multiple Choices\n",
    "    - Ordinal\n",
    "      - Data ranked or ordered\n",
    "  - Continuous Variable :\n",
    "    - Ratio Data\n",
    "      - we compare with ratio\n",
    "      - Data have natural zero\n",
    "    - Interval Variables\n",
    "      - ordered and characterized data"
   ]
  },
  {
   "cell_type": "code",
   "execution_count": null,
   "metadata": {},
   "outputs": [],
   "source": []
  }
 ],
 "metadata": {
  "kernelspec": {
   "display_name": "Python 3",
   "language": "python",
   "name": "python3"
  },
  "language_info": {
   "name": "python",
   "version": "3.11.1 (tags/v3.11.1:a7a450f, Dec  6 2022, 19:58:39) [MSC v.1934 64 bit (AMD64)]"
  },
  "orig_nbformat": 4,
  "vscode": {
   "interpreter": {
    "hash": "d94903e093d2a635606a0738baa102b4391fe4fecd9e7b37ec5f3e8decf9d05e"
   }
  }
 },
 "nbformat": 4,
 "nbformat_minor": 2
}
